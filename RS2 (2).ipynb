{
  "cells": [
    {
      "cell_type": "markdown",
      "source": [
        "**Data of HSE publishing from SCOPUS database. \n",
        "I used data of 2017-2021 period. I analyze the Titles of published researches**\n",
        "\n"
      ],
      "metadata": {
        "id": "Ri6NzfvAIUHq"
      }
    },
    {
      "cell_type": "code",
      "execution_count": 1,
      "metadata": {
        "colab": {
          "base_uri": "https://localhost:8080/"
        },
        "id": "zks1PJdUnzjw",
        "outputId": "c150641f-e8cf-40e6-c3e8-28d193dae58c"
      },
      "outputs": [
        {
          "output_type": "stream",
          "name": "stdout",
          "text": [
            "Mounted at /content/drive\n"
          ]
        }
      ],
      "source": [
        "from google.colab import drive\n",
        "drive.mount('/content/drive')"
      ]
    },
    {
      "cell_type": "code",
      "execution_count": 2,
      "metadata": {
        "colab": {
          "base_uri": "https://localhost:8080/"
        },
        "id": "E5l6ooFInIrJ",
        "outputId": "d3780def-0577-4371-8795-ab7b188a7f74"
      },
      "outputs": [
        {
          "output_type": "stream",
          "name": "stdout",
          "text": [
            "\u001b[K     |████████████████████████████████| 281.3 MB 40 kB/s \n",
            "\u001b[K     |████████████████████████████████| 142 kB 64.4 MB/s \n",
            "\u001b[K     |████████████████████████████████| 198 kB 39.5 MB/s \n",
            "\u001b[?25h  Building wheel for pyspark (setup.py) ... \u001b[?25l\u001b[?25hdone\n"
          ]
        }
      ],
      "source": [
        "! pip install -q pyspark==3.2.0 spark-nlp"
      ]
    },
    {
      "cell_type": "code",
      "execution_count": 3,
      "metadata": {
        "colab": {
          "base_uri": "https://localhost:8080/"
        },
        "id": "znCyenQePrc3",
        "outputId": "2f1f7c5d-606a-4ede-d0d0-db1273243dc2"
      },
      "outputs": [
        {
          "output_type": "stream",
          "name": "stdout",
          "text": [
            "Collecting findspark\n",
            "  Downloading findspark-2.0.1-py2.py3-none-any.whl (4.4 kB)\n",
            "Installing collected packages: findspark\n",
            "Successfully installed findspark-2.0.1\n"
          ]
        }
      ],
      "source": [
        "!pip install findspark"
      ]
    },
    {
      "cell_type": "code",
      "execution_count": 4,
      "metadata": {
        "colab": {
          "base_uri": "https://localhost:8080/",
          "height": 258
        },
        "id": "Lt0Zmk0bnKkQ",
        "outputId": "5db6fb06-6d3d-418e-9313-5fb0ba104fdd"
      },
      "outputs": [
        {
          "output_type": "stream",
          "name": "stdout",
          "text": [
            "Spark NLP version 3.4.2\n",
            "Apache Spark version: 3.2.0\n"
          ]
        },
        {
          "output_type": "execute_result",
          "data": {
            "text/plain": [
              "<pyspark.sql.session.SparkSession at 0x7f82f54765d0>"
            ],
            "text/html": [
              "\n",
              "            <div>\n",
              "                <p><b>SparkSession - in-memory</b></p>\n",
              "                \n",
              "        <div>\n",
              "            <p><b>SparkContext</b></p>\n",
              "\n",
              "            <p><a href=\"http://81b136a4cf83:4040\">Spark UI</a></p>\n",
              "\n",
              "            <dl>\n",
              "              <dt>Version</dt>\n",
              "                <dd><code>v3.2.0</code></dd>\n",
              "              <dt>Master</dt>\n",
              "                <dd><code>local[*]</code></dd>\n",
              "              <dt>AppName</dt>\n",
              "                <dd><code>Spark NLP</code></dd>\n",
              "            </dl>\n",
              "        </div>\n",
              "        \n",
              "            </div>\n",
              "        "
            ]
          },
          "metadata": {},
          "execution_count": 4
        }
      ],
      "source": [
        "import sparknlp\n",
        "\n",
        "spark = sparknlp.start(spark32 = True)\n",
        "\n",
        "from sparknlp.base import *\n",
        "from sparknlp.annotator import *\n",
        "\n",
        "from pyspark.ml import Pipeline\n",
        "\n",
        "print(\"Spark NLP version\", sparknlp.version())\n",
        "\n",
        "print(\"Apache Spark version:\", spark.version)\n",
        "\n",
        "spark"
      ]
    },
    {
      "cell_type": "code",
      "execution_count": 5,
      "metadata": {
        "id": "azD7Ve7qnurS"
      },
      "outputs": [],
      "source": [
        "import sys\n",
        "import pyspark\n",
        "from pyspark.sql import SparkSession\n",
        "from pyspark import SparkContext\n",
        "from pyspark.ml.feature import RegexTokenizer, StopWordsRemover\n",
        "from pyspark.sql.types import IntegerType\n",
        "import os\n",
        "import pandas as pd\n",
        "import numpy as np\n",
        "from operator import add\n",
        "from pyspark.ml.feature import Tokenizer\n",
        "import pyspark.sql.functions as f\n",
        "import seaborn as sns\n",
        "import matplotlib.pyplot as plt\n",
        "from wordcloud import WordCloud, STOPWORDS\n",
        "import glob\n",
        "from pyspark.sql.functions import *\n",
        "import warnings\n",
        "warnings.filterwarnings('ignore')"
      ]
    },
    {
      "cell_type": "code",
      "execution_count": 6,
      "metadata": {
        "id": "0ZqxZ9R_oCRA"
      },
      "outputs": [],
      "source": [
        "spark = SparkSession\\\n",
        "  .builder \\\n",
        "  .appName(\"WordCounter\") \\\n",
        "  .getOrCreate()"
      ]
    },
    {
      "cell_type": "markdown",
      "source": [
        "**Analyzying of all csv-files**"
      ],
      "metadata": {
        "id": "fmzBQYCCJNou"
      }
    },
    {
      "cell_type": "code",
      "execution_count": 7,
      "metadata": {
        "colab": {
          "base_uri": "https://localhost:8080/"
        },
        "id": "sseQrUpboTQn",
        "outputId": "523465f4-3f2a-47b3-9001-72247af3e3f2"
      },
      "outputs": [
        {
          "output_type": "stream",
          "name": "stdout",
          "text": [
            "Cloning into 'research_seminar'...\n",
            "remote: Enumerating objects: 42, done.\u001b[K\n",
            "remote: Counting objects: 100% (42/42), done.\u001b[K\n",
            "remote: Compressing objects: 100% (40/40), done.\u001b[K\n",
            "remote: Total 42 (delta 15), reused 0 (delta 0), pack-reused 0\u001b[K\n",
            "Unpacking objects: 100% (42/42), done.\n"
          ]
        }
      ],
      "source": [
        "!git clone https://github.com/IlonaInch/research_seminar.git"
      ]
    },
    {
      "cell_type": "code",
      "execution_count": 8,
      "metadata": {
        "colab": {
          "base_uri": "https://localhost:8080/"
        },
        "id": "uvtsKRUgoF4s",
        "outputId": "ad587b60-7536-44b3-f8aa-a19c32d4e3ce"
      },
      "outputs": [
        {
          "output_type": "execute_result",
          "data": {
            "text/plain": [
              "['/content/research_seminar/scopus_2018_article.csv',\n",
              " '/content/research_seminar/scopus_2019_allOpenAccess.csv',\n",
              " '/content/research_seminar/scopus_2021_AllOpenAccess.csv',\n",
              " '/content/research_seminar/scopus_2018_conferencePaper.csv',\n",
              " '/content/research_seminar/scopus_2017.csv',\n",
              " '/content/research_seminar/scopus_2020_except_AllOpenAccess.csv',\n",
              " '/content/research_seminar/scopus_2020_allOpenAccess.csv',\n",
              " '/content/research_seminar/scopus_2021_except_AllOpenAccess.csv',\n",
              " '/content/research_seminar/scopus_2019_except_allOpenAccess.csv']"
            ]
          },
          "metadata": {},
          "execution_count": 8
        }
      ],
      "source": [
        "path = ('/content/research_seminar')\n",
        "all_files = glob.glob(os.path.join(path, \"scopus*.csv\"))\n",
        "all_files"
      ]
    },
    {
      "cell_type": "code",
      "execution_count": 9,
      "metadata": {
        "colab": {
          "base_uri": "https://localhost:8080/"
        },
        "id": "6ghQ4WnyoIG8",
        "outputId": "d7122f82-35ac-4fa5-84e6-8b666a01df6b"
      },
      "outputs": [
        {
          "output_type": "stream",
          "name": "stdout",
          "text": [
            "+--------------------+------------------------+--------------------+----+--------------------+----+-------+--------+---------------+------------------+------------------+-----------+--------------------+--------------------+--------------------+--------------------+--------------------+---------------------+------------------------+---------------------------------------+-----------------------+----------------------+-------------+-------------------------+------------------------+------------------------+------------------------+------------------------+------------------------+------------------------+------------------------+------------------------+------------------------+-------------------------+--------------------+-------------------------+---------+--------+--------------------+--------------------+----------------+----------------------------+---------------+--------+----+-----+--------------------+----------------------------+------------------------------+-------------+-----------------+-----------------------------+--------+------------------+\n",
            "|              Авторы|Идентификатор автора(ов)|            Название| Год|  Название источника| Том|Выпуск |Статья №|Страница начала|Страница окончания|Количество страниц|Цитирования|                 DOI|              Ссылка|         Организации|  Авторы организаций|    Краткое описание|Ключевые слова автора|Ключевые слова указателя|Номера молекулярных последовательностей|Химические вещества/CAS|Фирменные наименования|Производители|Сведения о финансировании|Текст о финансировании 1|Текст о финансировании 2|Текст о финансировании 3|Текст о финансировании 4|Текст о финансировании 5|Текст о финансировании 6|Текст о финансировании 7|Текст о финансировании 8|Текст о финансировании 9|Текст о финансировании 10| Пристатейные ссылки|Адрес для корреспонденции|Редакторы|Спонсоры|            Издатель|Название конференции|Дата конференции|Место проведения конференции|Код конференции|    ISSN|ISBN|CODEN|Идентификатор PubMed|Язык оригинального документа|Сокращенное название источника|Тип документа|Стадия публикации|Open Access (открытый доступ)|Источник|               EID|\n",
            "+--------------------+------------------------+--------------------+----+--------------------+----+-------+--------+---------------+------------------+------------------+-----------+--------------------+--------------------+--------------------+--------------------+--------------------+---------------------+------------------------+---------------------------------------+-----------------------+----------------------+-------------+-------------------------+------------------------+------------------------+------------------------+------------------------+------------------------+------------------------+------------------------+------------------------+------------------------+-------------------------+--------------------+-------------------------+---------+--------+--------------------+--------------------+----------------+----------------------------+---------------+--------+----+-----+--------------------+----------------------------+------------------------------+-------------+-----------------+-----------------------------+--------+------------------+\n",
            "|          Gurvich V.|             7006377323;|Balanced flows fo...|2021|Discrete Applied ...| 305|   null|    null|            214|               220|              null|       null|10.1016/j.dam.202...|https://www.scopu...|HSE University, M...|Gurvich, V., HSE ...|A transshipment p...| Balanced flow; Ca...|    Flow graphs; Vect...|                                   null|                   null|                  null|         null|     Russian Science F...|    This research was...|                    null|                    null|                    null|                    null|                    null|                    null|                    null|                    null|                     null|Burkard, R.E., Re...|                     null|     null|    null|       Elsevier B.V.|                null|            null|                        null|           null|0166218X|null|DAMAD|                null|                     English|            Discrete Appl Math|      Article|            Final|         All Open Access, ...|  Scopus|2-s2.0-85115746813|\n",
            "|       Belenkov V.E.|            57375742400;|DO INTERNET PENET...|2021|Monitoring Obshch...|null|      6|    null|            119|               144|              null|       null|10.14515/monitori...|https://www.scopu...|Doctoral School o...|Belenkov, V.E., D...|This research pap...| Civil society org...|                    null|                                   null|                   null|                  null|         null|     21-011-32120; Rus...|    Keywords: online ...|                    null|                    null|                    null|                    null|                    null|                    null|                    null|                    null|                     null|Almeida, P., Oppo...|     Belenkov, V.E.; D...|     null|    null|Russian Public Op...|                null|            null|                        null|           null|22195467|null| null|                null|                     English|          Monit. Obsestven....|      Article|            Final|         All Open Access, ...|  Scopus|2-s2.0-85124048161|\n",
            "|Kazun A.D., Porsh...|    57193912167;56109...|WHO BELIEVES in C...|2021|Monitoring Obshch...|null|      6|    null|            549|               565|              null|       null|10.14515/monitori...|https://www.scopu...|Laboratory for St...|Kazun, A.D., Labo...|Conspiracy thinki...| Conspiracy theori...|                    null|                                   null|                   null|                  null|         null|     Russian Science F...|    Keywords: conspir...|                    null|                    null|                    null|                    null|                    null|                    null|                    null|                    null|                     null|Volchenko, O. V.,...|                     null|     null|    null|Russian Public Op...|                null|            null|                        null|           null|22195467|null| null|                null|                     Russian|          Monit. Obsestven....|      Article|            Final|         All Open Access, ...|  Scopus|2-s2.0-85124045611|\n",
            "|Klimova A.M., Kul...|    57221419398;57439...|THE ROLE of SOCIA...|2021|Monitoring Obshch...|null|      6|    null|             28|                52|              null|       null|10.14515/monitori...|https://www.scopu...|Department for So...|Klimova, A.M., De...|In 2018—2019, Ark...| Ecological protes...|                    null|                                   null|                   null|                  null|         null|     Russian Foundatio...|    Огромное количест...|                    null|                    null|                    null|                    null|                    null|                    null|                    null|                    null|                     null|, p. 200. , Ахрем...|                     null|     null|    null|Russian Public Op...|                null|            null|                        null|           null|22195467|null| null|                null|                     Russian|          Monit. Obsestven....|      Article|            Final|         All Open Access, ...|  Scopus|2-s2.0-85124017855|\n",
            "|Babayan V.V., Tur...|    57372982400;57219...|NOT UNIQUE, NOT U...|2021|Monitoring Obshch...|null|      6|    null|            319|               345|              null|       null|10.14515/monitori...|https://www.scopu...|School of Politic...|Babayan, V.V., Sc...|What is the conne...| Internet; Interne...|                    null|                                   null|                   null|                  null|         null|                     null|                    null|                    null|                    null|                    null|                    null|                    null|                    null|                    null|                    null|                     null|Alvarez, R. M., L...|                     null|     null|    null|Russian Public Op...|                null|            null|                        null|           null|22195467|null| null|                null|                     English|          Monit. Obsestven....|      Article|            Final|         All Open Access, ...|  Scopus|2-s2.0-85123987966|\n",
            "|Poretskova A.A., ...|    57214720516;57197...|MEMES AS CONSOLID...|2021|Monitoring Obshch...|null|      6|    null|             76|                96|              null|       null|10.14515/monitori...|https://www.scopu...|School of Politic...|Poretskova, A.A.,...|Internetmemes hav...| Memes; New media;...|                    null|                                   null|                   null|                  null|         null|                     null|                    null|                    null|                    null|                    null|                    null|                    null|                    null|                    null|                    null|                     null|(2013), Докинз Р....|                     null|     null|    null|Russian Public Op...|                null|            null|                        null|           null|22195467|null| null|                null|                     Russian|          Monit. Obsestven....|      Article|            Final|         All Open Access, ...|  Scopus|2-s2.0-85123978485|\n",
            "|Sokolov B.O., Zav...|    57431322800;56214...|SOCIO-DEMOGRAPHIC...|2021|Monitoring Obshch...|null|      6|    null|            410|               435|              null|       null|10.14515/MONITORI...|https://www.scopu...|The Faculty of Po...|Sokolov, B.O., Th...|Аbstract. In this...| Conspiracy theori...|                    null|                                   null|                   null|                  null|         null|     Ministry of Educa...|    prepared in the f...|                    null|                    null|                    null|                    null|                    null|                    null|                    null|                    null|                     null|Arkhipova, A. S.,...|                     null|     null|    null|Russian Public Op...|                null|            null|                        null|           null|22195467|null| null|                null|                     Russian|          Monit. Obsestven....|      Article|            Final|         All Open Access, ...|  Scopus|2-s2.0-85123735617|\n",
            "|Petrov A.P.Ch., A...|    57431926200;57212...|IS NETWORK STRUCT...|2021|Monitoring Obshch...|null|      6|    null|            226|               253|              null|       null|10.14515/MONITORI...|https://www.scopu...|Keldysh Institute...|Petrov, A.P.Ch., ...|Аbstract. In rece...| Agent-oriented mo...|                    null|                                   null|                   null|                  null|         null|     Russian Science F...|    Acknowledgments. ...|                    null|                    null|                    null|                    null|                    null|                    null|                    null|                    null|                     null|Akhremenko, A., P...|                     null|     null|    null|Russian Public Op...|                null|            null|                        null|           null|22195467|null| null|                null|                     Russian|          Monit. Obsestven....|      Article|            Final|         All Open Access, ...|  Scopus|2-s2.0-85123716347|\n",
            "|Akhremenko A.S., ...|    57212303287;56584...|IMPACT OF NEW INF...|2021|Monitoring Obshch...|null|      6|    null|              4|                27|              null|       null|10.14515/MONITORI...|https://www.scopu...|School of Politic...|Akhremenko, A.S.,...|Аbstract. The art...| Civic participati...|                    null|                                   null|                   null|                  null|         null|     Russian Science F...|    Acknowledgments. ...|                    null|                    null|                    null|                    null|                    null|                    null|                    null|                    null|                     null|Akhremenko, A. S....|                     null|     null|    null|Russian Public Op...|                null|            null|                        null|           null|22195467|null| null|                null|                     Russian|          Monit. Obsestven....|      Article|            Final|         All Open Access, ...|  Scopus|2-s2.0-85123697786|\n",
            "|Jakobson L.I., Iv...|    41461158700;57193...|NGO CORPORATE GOV...|2021|Monitoring Obshch...|null|      6|    null|            459|               476|              null|       null|10.14515/MONITORI...|https://www.scopu...|The Center for St...|Jakobson, L.I., T...|Аbstract. The pap...| Board of director...|                    null|                                   null|                   null|                  null|         null|     National Research...|    Keywords: nonprof...|                    null|                    null|                    null|                    null|                    null|                    null|                    null|                    null|                     null|Kuzmin, A. I., (2...|                     null|     null|    null|Russian Public Op...|                null|            null|                        null|           null|22195467|null| null|                null|                     Russian|          Monit. Obsestven....|      Article|            Final|         All Open Access, ...|  Scopus|2-s2.0-85123677583|\n",
            "+--------------------+------------------------+--------------------+----+--------------------+----+-------+--------+---------------+------------------+------------------+-----------+--------------------+--------------------+--------------------+--------------------+--------------------+---------------------+------------------------+---------------------------------------+-----------------------+----------------------+-------------+-------------------------+------------------------+------------------------+------------------------+------------------------+------------------------+------------------------+------------------------+------------------------+------------------------+-------------------------+--------------------+-------------------------+---------+--------+--------------------+--------------------+----------------+----------------------------+---------------+--------+----+-----+--------------------+----------------------------+------------------------------+-------------+-----------------+-----------------------------+--------+------------------+\n",
            "only showing top 10 rows\n",
            "\n"
          ]
        }
      ],
      "source": [
        "data = spark.read.format('csv').options(header='true', inferSchema='true').load(all_files)\n",
        "data.show(10)"
      ]
    },
    {
      "cell_type": "code",
      "execution_count": 10,
      "metadata": {
        "colab": {
          "base_uri": "https://localhost:8080/"
        },
        "id": "9Y8MyAdt3GFb",
        "outputId": "28977ddf-350d-4f75-fbf6-5b902507ad33"
      },
      "outputs": [
        {
          "output_type": "stream",
          "name": "stdout",
          "text": [
            "+--------------------+--------------------+---------------------+\n",
            "|              Авторы|            Название|Ключевые слова автора|\n",
            "+--------------------+--------------------+---------------------+\n",
            "|          Gurvich V.|Balanced flows fo...| Balanced flow; Ca...|\n",
            "|       Belenkov V.E.|DO INTERNET PENET...| Civil society org...|\n",
            "|Kazun A.D., Porsh...|WHO BELIEVES in C...| Conspiracy theori...|\n",
            "|Klimova A.M., Kul...|THE ROLE of SOCIA...| Ecological protes...|\n",
            "|Babayan V.V., Tur...|NOT UNIQUE, NOT U...| Internet; Interne...|\n",
            "|Poretskova A.A., ...|MEMES AS CONSOLID...| Memes; New media;...|\n",
            "|Sokolov B.O., Zav...|SOCIO-DEMOGRAPHIC...| Conspiracy theori...|\n",
            "|Petrov A.P.Ch., A...|IS NETWORK STRUCT...| Agent-oriented mo...|\n",
            "|Akhremenko A.S., ...|IMPACT OF NEW INF...| Civic participati...|\n",
            "|Jakobson L.I., Iv...|NGO CORPORATE GOV...| Board of director...|\n",
            "+--------------------+--------------------+---------------------+\n",
            "only showing top 10 rows\n",
            "\n"
          ]
        }
      ],
      "source": [
        "name_keywords_eid = data[[\"Авторы\", \"Название\",\"Ключевые слова автора\"]]\n",
        "new_data =name_keywords_eid\n",
        "new_data.show(10)"
      ]
    },
    {
      "cell_type": "code",
      "source": [
        "new_data = new_data.withColumnRenamed('Название','Name')\n",
        "new_data.show(10)"
      ],
      "metadata": {
        "colab": {
          "base_uri": "https://localhost:8080/"
        },
        "id": "RBEnFLn0L0cO",
        "outputId": "38ad80ef-65a0-4274-858c-6da48fa445ff"
      },
      "execution_count": 12,
      "outputs": [
        {
          "output_type": "stream",
          "name": "stdout",
          "text": [
            "+--------------------+--------------------+---------------------+\n",
            "|              Авторы|                Name|Ключевые слова автора|\n",
            "+--------------------+--------------------+---------------------+\n",
            "|          Gurvich V.|Balanced flows fo...| Balanced flow; Ca...|\n",
            "|       Belenkov V.E.|DO INTERNET PENET...| Civil society org...|\n",
            "|Kazun A.D., Porsh...|WHO BELIEVES in C...| Conspiracy theori...|\n",
            "|Klimova A.M., Kul...|THE ROLE of SOCIA...| Ecological protes...|\n",
            "|Babayan V.V., Tur...|NOT UNIQUE, NOT U...| Internet; Interne...|\n",
            "|Poretskova A.A., ...|MEMES AS CONSOLID...| Memes; New media;...|\n",
            "|Sokolov B.O., Zav...|SOCIO-DEMOGRAPHIC...| Conspiracy theori...|\n",
            "|Petrov A.P.Ch., A...|IS NETWORK STRUCT...| Agent-oriented mo...|\n",
            "|Akhremenko A.S., ...|IMPACT OF NEW INF...| Civic participati...|\n",
            "|Jakobson L.I., Iv...|NGO CORPORATE GOV...| Board of director...|\n",
            "+--------------------+--------------------+---------------------+\n",
            "only showing top 10 rows\n",
            "\n"
          ]
        }
      ]
    },
    {
      "cell_type": "markdown",
      "source": [
        "**There are many columns, but I will find most common words from \"Название\" column**"
      ],
      "metadata": {
        "id": "F4cDqLZVJY5u"
      }
    },
    {
      "cell_type": "code",
      "execution_count": 13,
      "metadata": {
        "colab": {
          "base_uri": "https://localhost:8080/"
        },
        "id": "y56FUZFgo8uG",
        "outputId": "7cc3a552-274a-4a9e-874a-bb8f0384350c"
      },
      "outputs": [
        {
          "output_type": "stream",
          "name": "stdout",
          "text": [
            "+----+-----+\n",
            "|word|count|\n",
            "+----+-----+\n",
            "|  of|10891|\n",
            "| the| 6386|\n",
            "| and| 5501|\n",
            "|  in| 5472|\n",
            "| for| 2332|\n",
            "|   a| 1879|\n",
            "| The| 1609|\n",
            "|  on| 1463|\n",
            "|with| 1179|\n",
            "|  to| 1177|\n",
            "+----+-----+\n",
            "only showing top 10 rows\n",
            "\n"
          ]
        }
      ],
      "source": [
        "new_data.withColumn('word', f.explode(f.split(f.col('Name'), ' '))) \\\n",
        "  .groupBy('word') \\\n",
        "  .count() \\\n",
        "  .sort('count', ascending=False) \\\n",
        "  .show(10)"
      ]
    },
    {
      "cell_type": "code",
      "source": [
        "new_data=new_data.na.drop()"
      ],
      "metadata": {
        "id": "GFDZKTsht7Bp"
      },
      "execution_count": 14,
      "outputs": []
    },
    {
      "cell_type": "code",
      "source": [
        "new_data.show(10)"
      ],
      "metadata": {
        "colab": {
          "base_uri": "https://localhost:8080/"
        },
        "id": "SwVAbqw_uCOr",
        "outputId": "84e5d8a6-a7aa-4d89-d627-71cc5423cd24"
      },
      "execution_count": 15,
      "outputs": [
        {
          "output_type": "stream",
          "name": "stdout",
          "text": [
            "+--------------------+--------------------+---------------------+\n",
            "|              Авторы|                Name|Ключевые слова автора|\n",
            "+--------------------+--------------------+---------------------+\n",
            "|          Gurvich V.|Balanced flows fo...| Balanced flow; Ca...|\n",
            "|       Belenkov V.E.|DO INTERNET PENET...| Civil society org...|\n",
            "|Kazun A.D., Porsh...|WHO BELIEVES in C...| Conspiracy theori...|\n",
            "|Klimova A.M., Kul...|THE ROLE of SOCIA...| Ecological protes...|\n",
            "|Babayan V.V., Tur...|NOT UNIQUE, NOT U...| Internet; Interne...|\n",
            "|Poretskova A.A., ...|MEMES AS CONSOLID...| Memes; New media;...|\n",
            "|Sokolov B.O., Zav...|SOCIO-DEMOGRAPHIC...| Conspiracy theori...|\n",
            "|Petrov A.P.Ch., A...|IS NETWORK STRUCT...| Agent-oriented mo...|\n",
            "|Akhremenko A.S., ...|IMPACT OF NEW INF...| Civic participati...|\n",
            "|Jakobson L.I., Iv...|NGO CORPORATE GOV...| Board of director...|\n",
            "+--------------------+--------------------+---------------------+\n",
            "only showing top 10 rows\n",
            "\n"
          ]
        }
      ]
    },
    {
      "cell_type": "code",
      "execution_count": 16,
      "metadata": {
        "colab": {
          "base_uri": "https://localhost:8080/"
        },
        "id": "LNeyY1_vpIlt",
        "outputId": "cfbd60c1-eff1-4413-8739-cfdc3f1fd4dd"
      },
      "outputs": [
        {
          "output_type": "stream",
          "name": "stdout",
          "text": [
            "+----------------------------------------+----------------------------------------+\n",
            "|                                    Name|                             words_token|\n",
            "+----------------------------------------+----------------------------------------+\n",
            "|Balanced flows for transshipment prob...|[balanced, flows, for, transshipment,...|\n",
            "|DO INTERNET PENETRATION and ONLINE CE...|[do, internet, penetration, and, onli...|\n",
            "|WHO BELIEVES in CONSPIRACY THEORIES? ...|[who, believes, in, conspiracy, theor...|\n",
            "|THE ROLE of SOCIAL MEDIA in SHAPING R...|[the, role, of, social, media, in, sh...|\n",
            "|NOT UNIQUE, NOT UNIVERSAL: RISK PERCE...|[not, unique,, not, universal:, risk,...|\n",
            "|MEMES AS CONSOLIDATION TOOL of the PR...|[memes, as, consolidation, tool, of, ...|\n",
            "|SOCIO-DEMOGRAPHIC PROFILES, PERSONALI...|[socio-demographic, profiles,, person...|\n",
            "|IS NETWORK STRUCTURE IMPORTANT FOR PR...|[is, network, structure, important, f...|\n",
            "|IMPACT OF NEW INFORMATION AND COMMUNI...|[impact, of, new, information, and, c...|\n",
            "|NGO CORPORATE GOVERNANCE: THEORIES AN...|[ngo, corporate, governance:, theorie...|\n",
            "|ALL-RUSSIAN SOCIETIES of PEOPLE with ...|[all-russian, societies, of, people, ...|\n",
            "|THE FAMILY of A CHILD with DISABILITI...|[the, family, of, a, child, with, dis...|\n",
            "|PRACTICES of ORIENTATION and INDEPEND...|[practices, of, orientation, and, ind...|\n",
            "|Cultural Variations in Evaluation of ...|[cultural, variations, in, evaluation...|\n",
            "|The Social Status of the Elderly from...|[the, social, status, of, the, elderl...|\n",
            "|Relativistic Runaway Electron Avalanc...|[relativistic, runaway, electron, ava...|\n",
            "|Measurement of Differential Branching...|[measurement, of, differential, branc...|\n",
            "|Supercongruences for rigid hypergeome...|[supercongruences, for, rigid, hyperg...|\n",
            "|The Belgian Fate of Dostoevsky’s Work...|[the, belgian, fate, of, dostoevsky’s...|\n",
            "|Fear and Childhood Victimisation in A...|[fear, and, childhood, victimisation,...|\n",
            "+----------------------------------------+----------------------------------------+\n",
            "only showing top 20 rows\n",
            "\n",
            "+----------------------------------------+----------------------------------------+\n",
            "|                                    Name|                             words_clean|\n",
            "+----------------------------------------+----------------------------------------+\n",
            "|Balanced flows for transshipment prob...|[balanced, flows, transshipment, prob...|\n",
            "|DO INTERNET PENETRATION and ONLINE CE...|[internet, penetration, online, censo...|\n",
            "|WHO BELIEVES in CONSPIRACY THEORIES? ...|[believes, conspiracy, theories?, fac...|\n",
            "|THE ROLE of SOCIAL MEDIA in SHAPING R...|[role, social, media, shaping, region...|\n",
            "|NOT UNIQUE, NOT UNIVERSAL: RISK PERCE...|[unique,, universal:, risk, perceptio...|\n",
            "|MEMES AS CONSOLIDATION TOOL of the PR...|[memes, consolidation, tool, protest,...|\n",
            "|SOCIO-DEMOGRAPHIC PROFILES, PERSONALI...|[socio-demographic, profiles,, person...|\n",
            "|IS NETWORK STRUCTURE IMPORTANT FOR PR...|[network, structure, important, prote...|\n",
            "|IMPACT OF NEW INFORMATION AND COMMUNI...|[impact, new, information, communicat...|\n",
            "|NGO CORPORATE GOVERNANCE: THEORIES AN...|[ngo, corporate, governance:, theorie...|\n",
            "|ALL-RUSSIAN SOCIETIES of PEOPLE with ...|[all-russian, societies, people, disa...|\n",
            "|THE FAMILY of A CHILD with DISABILITI...|[family, child, disabilities, field, ...|\n",
            "|PRACTICES of ORIENTATION and INDEPEND...|[practices, orientation, independent,...|\n",
            "|Cultural Variations in Evaluation of ...|[cultural, variations, evaluation, cr...|\n",
            "|The Social Status of the Elderly from...|[social, status, elderly, comparative...|\n",
            "|Relativistic Runaway Electron Avalanc...|[relativistic, runaway, electron, ava...|\n",
            "|Measurement of Differential Branching...|[measurement, differential, branching...|\n",
            "|Supercongruences for rigid hypergeome...|[supercongruences, rigid, hypergeomet...|\n",
            "|The Belgian Fate of Dostoevsky’s Work...|[belgian, fate, dostoevsky’s, works:,...|\n",
            "|Fear and Childhood Victimisation in A...|[fear, childhood, victimisation, athe...|\n",
            "+----------------------------------------+----------------------------------------+\n",
            "only showing top 20 rows\n",
            "\n"
          ]
        }
      ],
      "source": [
        "tokenizer = Tokenizer(inputCol=\"Name\", outputCol=\"words_token\")\n",
        "tokenized = tokenizer.transform(new_data).select('Name','words_token')\n",
        "tokenized.show(truncate=40)\n",
        "remover = StopWordsRemover(inputCol='words_token', outputCol='words_clean')\n",
        "data_clean = remover.transform(tokenized).select('Name', 'words_clean')\n",
        "data_clean.show(truncate=40)"
      ]
    },
    {
      "cell_type": "code",
      "execution_count": 17,
      "metadata": {
        "id": "9D4Mgbeaxjji"
      },
      "outputs": [],
      "source": [
        "most_common = data_clean.withColumn('word', f.explode(f.col('words_clean'))) \\\n",
        "  .groupBy('word') \\\n",
        "  .count().sort('count', ascending=False)"
      ]
    },
    {
      "cell_type": "code",
      "execution_count": 18,
      "metadata": {
        "colab": {
          "base_uri": "https://localhost:8080/"
        },
        "id": "tPBpqKPizHxl",
        "outputId": "2448ec99-fcca-4705-824b-6ae189988552"
      },
      "outputs": [
        {
          "output_type": "stream",
          "name": "stdout",
          "text": [
            "+-----------+-----+\n",
            "|       word|count|\n",
            "+-----------+-----+\n",
            "|    russian|  969|\n",
            "|     russia|  493|\n",
            "|   analysis|  450|\n",
            "|          в|  408|\n",
            "|          и|  386|\n",
            "|     social|  319|\n",
            "|      model|  310|\n",
            "|      study|  285|\n",
            "|development|  271|\n",
            "|       case|  264|\n",
            "|     system|  263|\n",
            "|      based|  247|\n",
            "|      using|  241|\n",
            "|        new|  239|\n",
            "|           |  229|\n",
            "|       data|  213|\n",
            "|   evidence|  201|\n",
            "|    systems|  187|\n",
            "|   economic|  179|\n",
            "|   approach|  175|\n",
            "+-----------+-----+\n",
            "only showing top 20 rows\n",
            "\n"
          ]
        }
      ],
      "source": [
        "most_common.show(20)"
      ]
    },
    {
      "cell_type": "code",
      "source": [
        "pd_df = spark.createDataFrame(most_common.take(10)).toPandas()"
      ],
      "metadata": {
        "id": "zSzXFnlm3-Ia"
      },
      "execution_count": 19,
      "outputs": []
    },
    {
      "cell_type": "code",
      "source": [
        "fig = plt.figure()\n",
        "ax = fig.add_axes([0,0,1,1])\n",
        "ax.bar(pd_df['word'],pd_df['count'])\n",
        "plt.xticks(rotation=50)\n",
        "stopwords = set(STOPWORDS)\n",
        "plt.show(10)"
      ],
      "metadata": {
        "colab": {
          "base_uri": "https://localhost:8080/",
          "height": 383
        },
        "id": "cangJ8Rt4NEG",
        "outputId": "6a8419c3-d98f-4675-c7d4-880cc61a52d1"
      },
      "execution_count": 20,
      "outputs": [
        {
          "output_type": "display_data",
          "data": {
            "text/plain": [
              "<Figure size 432x288 with 1 Axes>"
            ],
            "image/png": "[encoded data removed]"
          },
          "metadata": {
            "needs_background": "light"
          }
        }
      ]
    }
  ],
  "metadata": {
    "colab": {
      "name": "RS2.ipynb",
      "provenance": [],
      "collapsed_sections": []
    },
    "kernelspec": {
      "display_name": "Python 3",
      "name": "python3"
    },
    "language_info": {
      "name": "python"
    }
  },
  "nbformat": 4,
  "nbformat_minor": 0
}